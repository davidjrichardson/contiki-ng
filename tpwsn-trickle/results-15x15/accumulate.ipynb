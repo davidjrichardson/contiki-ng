{
 "cells": [
  {
   "cell_type": "code",
   "execution_count": 1,
   "metadata": {},
   "outputs": [],
   "source": [
    "import pickle\n",
    "import os\n",
    "\n",
    "from collections import namedtuple\n",
    "\n",
    "Experiment = namedtuple('Experiment', ['d', 'k', 'imin', 'n', 't', 'imax'])\n",
    "\n",
    "control_files = [x for x in os.listdir('.') if 'control_' in x]\n",
    "results_files = [x for x in os.listdir('.') if 'results_' in x]"
   ]
  },
  {
   "cell_type": "code",
   "execution_count": 2,
   "metadata": {},
   "outputs": [],
   "source": [
    "control = {}\n",
    "for f in control_files:\n",
    "    with open(f, 'rb') as handle:\n",
    "        file_dict = pickle.load(handle)\n",
    "        control.update(file_dict)"
   ]
  },
  {
   "cell_type": "code",
   "execution_count": 11,
   "metadata": {},
   "outputs": [
    {
     "data": {
      "text/plain": [
       "57"
      ]
     },
     "execution_count": 11,
     "metadata": {},
     "output_type": "execute_result"
    }
   ],
   "source": [
    "end_ticks = []\n",
    "\n",
    "import numpy as np\n",
    "\n",
    "for _, values in control.items():\n",
    "    times = list(map(lambda x: x['end_tick'], values))\n",
    "    end_ticks.append(np.mean(times))\n",
    "    \n",
    "int(np.mean(end_ticks)/1e6)"
   ]
  },
  {
   "cell_type": "code",
   "execution_count": 3,
   "metadata": {},
   "outputs": [],
   "source": [
    "results = {}\n",
    "for f in results_files:\n",
    "    with open(f, 'rb') as handle:\n",
    "        file_dict = pickle.load(handle)\n",
    "        results.update(file_dict)"
   ]
  },
  {
   "cell_type": "code",
   "execution_count": 7,
   "metadata": {},
   "outputs": [],
   "source": [
    "with open('control_data.pickle', 'wb') as handle:\n",
    "    pickle.dump(control, handle, protocol=pickle.HIGHEST_PROTOCOL)\n",
    "    \n",
    "with open('results_data.pickle', 'wb') as handle:\n",
    "    pickle.dump(results, handle, protocol=pickle.HIGHEST_PROTOCOL)"
   ]
  }
 ],
 "metadata": {
  "kernelspec": {
   "display_name": "Python 3",
   "language": "python",
   "name": "python3"
  },
  "language_info": {
   "codemirror_mode": {
    "name": "ipython",
    "version": 3
   },
   "file_extension": ".py",
   "mimetype": "text/x-python",
   "name": "python",
   "nbconvert_exporter": "python",
   "pygments_lexer": "ipython3",
   "version": "3.7.3"
  }
 },
 "nbformat": 4,
 "nbformat_minor": 2
}
