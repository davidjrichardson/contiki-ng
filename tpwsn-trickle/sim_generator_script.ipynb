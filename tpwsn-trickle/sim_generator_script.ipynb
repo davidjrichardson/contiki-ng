{
 "cells": [
  {
   "cell_type": "code",
   "execution_count": 1,
   "metadata": {},
   "outputs": [
    {
     "ename": "ImportError",
     "evalue": "No module named lxml",
     "output_type": "error",
     "traceback": [
      "\u001b[0;31m---------------------------------------------------------------------------\u001b[0m",
      "\u001b[0;31mImportError\u001b[0m                               Traceback (most recent call last)",
      "\u001b[0;32m<ipython-input-1-df5fbef3b5f3>\u001b[0m in \u001b[0;36m<module>\u001b[0;34m()\u001b[0m\n\u001b[1;32m      5\u001b[0m \u001b[0;34m\u001b[0m\u001b[0m\n\u001b[1;32m      6\u001b[0m \u001b[0;32mfrom\u001b[0m \u001b[0mpathlib2\u001b[0m \u001b[0;32mimport\u001b[0m \u001b[0mPath\u001b[0m\u001b[0;34m\u001b[0m\u001b[0m\n\u001b[0;32m----> 7\u001b[0;31m \u001b[0;32mfrom\u001b[0m \u001b[0mlxml\u001b[0m \u001b[0;32mimport\u001b[0m \u001b[0metree\u001b[0m\u001b[0;34m\u001b[0m\u001b[0m\n\u001b[0m\u001b[1;32m      8\u001b[0m \u001b[0;34m\u001b[0m\u001b[0m\n\u001b[1;32m      9\u001b[0m \u001b[0mcontiki_dir\u001b[0m \u001b[0;34m=\u001b[0m \u001b[0mPath\u001b[0m\u001b[0;34m(\u001b[0m\u001b[0;34m'..'\u001b[0m\u001b[0;34m)\u001b[0m\u001b[0;34m\u001b[0m\u001b[0m\n",
      "\u001b[0;31mImportError\u001b[0m: No module named lxml"
     ]
    }
   ],
   "source": [
    "import numpy as np\n",
    "import os\n",
    "import itertools\n",
    "import cgi\n",
    "\n",
    "from pathlib2 import Path\n",
    "from lxml import etree\n",
    "\n",
    "contiki_dir = Path('..')\n",
    "experiment_dir = Path(contiki_dir, 'tpwsn-trickle/experiments')\n",
    "abs_dir = Path(\"/Users/david/Projects/contiki-ng/tpwsn-trickle/experiments\")\n",
    "\n",
    "script_template = Path(contiki_dir, 'tpwsn-trickle/sim-script.template.js')\n",
    "sim_template = Path(contiki_dir, 'tpwsn-trickle/7x7.csc')\n",
    "\n",
    "# Experiment params\n",
    "fail_range = range(1,17)\n",
    "fail_mode = [\"random\", \"location\"]\n",
    "\n",
    "redundancy_range = [2] #range(2,4)\n",
    "imin_range = [16] #[8, 16, 32]\n",
    "imax_range = [10] #range(8, 11)\n",
    "recovery_range = range(1, 16)\n",
    "\n",
    "repeats = 16\n",
    "\n",
    "experiment_size = 7 # Number of motes along one axis (forms a square)\n",
    "experiment_space = list(itertools.product(fail_range, fail_mode, redundancy_range, imin_range, \n",
    "                                          imax_range, recovery_range))"
   ]
  },
  {
   "cell_type": "code",
   "execution_count": 7,
   "metadata": {},
   "outputs": [],
   "source": [
    "def render_js(params, run, stop, script_file):\n",
    "    motes, mode, k, imin, imax, recovery = params\n",
    "    print()\n",
    "    script = open(script_file, 'r').readlines()\n",
    "    \n",
    "    script_modified = map(lambda x: x.replace(\"%run%\", str(run)), script)\n",
    "    script_modified = map(lambda x: x.replace(\"%failures%\", str(motes)), script_modified)\n",
    "    script_modified = map(lambda x: x.replace(\"%delay%\", str(recovery)), script_modified)\n",
    "    script_modified = map(lambda x: x.replace(\"%tick%\", str(stop)), script_modified)\n",
    "    script_modified = map(lambda x: x.replace(\"%imin%\", str(imin)), script_modified)\n",
    "    script_modified = map(lambda x: x.replace(\"%imax%\", str(imax)), script_modified)\n",
    "    script_modified = map(lambda x: x.replace(\"%k%\", str(k)), script_modified)\n",
    "    script_modified = map(lambda x: x.replace(\"%mode%\", str(mode)), script_modified)\n",
    "    script_modified = map(lambda x: x.replace(\"%timeout%\", str(stop + (5*1e6))), script_modified)\n",
    "    \n",
    "    return cgi.escape(''.join(script_modified))\n",
    "    \n",
    "    \n",
    "\n",
    "def render_sim(params, size, seed, run):\n",
    "    mote_range = range(0, size**2)\n",
    "    template = \n",
    "#     soup = Soup(open(str(sim_template), 'r').read())\n",
    "    \n",
    "#     # Set the random seed of the simulation\n",
    "#     soup.findAll('randomseed')[0].string.replace_with(str(seed))\n",
    "    \n",
    "#     #\n",
    "#     soup.findAll('script')[0].string.replace_with(render_js(params, 0, 0, str(script_template)))\n",
    "    \n",
    "#     # Fix the plugin config for the radio timeline\n",
    "#     conf = soup.findAll('plugin_config')[2]\n",
    "#     motes_conf = conf.findChildren('mote')\n",
    "#     for mote in motes_conf:\n",
    "#         mote.decompose()\n",
    "        \n",
    "#     for mote in mote_range:\n",
    "#         mote_conf_str = \"<mote>{id}</mote>\".format(id=(mote+1))\n",
    "#         conf.append(Soup(mote_conf_str))\n",
    "    \n",
    "#     # Delete all current motes\n",
    "#     sim = soup.findAll('simulation')[0]\n",
    "#     motes_old = sim.findChildren('mote')\n",
    "#     for mote in motes_old:\n",
    "#         mote.decompose()\n",
    "        \n",
    "#     # Add the motes back to the sim\n",
    "#     for mote in mote_range:\n",
    "#         mote_x = 40.0 * (mote % 7)\n",
    "#         mote_y = 40.0 * (mote // 7)\n",
    "#         mote_z = 0.0\n",
    "        \n",
    "#         mote_str = \"\"\"<mote>\n",
    "#   <breakpoints />\n",
    "#   <interface_config>\n",
    "#     org.contikios.cooja.interfaces.Position\n",
    "#     <x>{x}</x>\n",
    "#     <y>{y}</y>\n",
    "#     <z>{z}</z>\n",
    "#   </interface_config>\n",
    "#   <interface_config>\n",
    "#     org.contikios.cooja.mspmote.interfaces.MspClock\n",
    "#     <deviation>1.0</deviation>\n",
    "#   </interface_config>\n",
    "#   <interface_config>\n",
    "#     org.contikios.cooja.mspmote.interfaces.MspMoteID\n",
    "#     <id>{id}</id>\n",
    "#   </interface_config>\n",
    "#   <motetype_identifier>sky1</motetype_identifier>\n",
    "# </mote>\"\"\".format(x=mote_x, y=mote_y, z=mote_z, id=mote+1)\n",
    "#         sim.append(Soup(mote_str))\n",
    "        \n",
    "#     return soup.prettify()"
   ]
  },
  {
   "cell_type": "code",
   "execution_count": 8,
   "metadata": {},
   "outputs": [
    {
     "name": "stdout",
     "output_type": "stream",
     "text": [
      "[(1, 'random', 2, 16, 10, 1)]\n"
     ]
    },
    {
     "ename": "FeatureNotFound",
     "evalue": "Couldn't find a tree builder with the features you requested: lxml. Do you need to install a parser library?",
     "output_type": "error",
     "traceback": [
      "\u001b[0;31m---------------------------------------------------------------------------\u001b[0m",
      "\u001b[0;31mFeatureNotFound\u001b[0m                           Traceback (most recent call last)",
      "\u001b[0;32m<ipython-input-8-7de74e470f27>\u001b[0m in \u001b[0;36m<module>\u001b[0;34m()\u001b[0m\n\u001b[1;32m      8\u001b[0m \u001b[0;34m\u001b[0m\u001b[0m\n\u001b[1;32m      9\u001b[0m \u001b[0;32mprint\u001b[0m\u001b[0;34m(\u001b[0m\u001b[0mcontrol_space\u001b[0m\u001b[0;34m)\u001b[0m\u001b[0;34m\u001b[0m\u001b[0m\n\u001b[0;32m---> 10\u001b[0;31m \u001b[0mopen\u001b[0m\u001b[0;34m(\u001b[0m\u001b[0;34m'test.csc'\u001b[0m\u001b[0;34m,\u001b[0m \u001b[0;34m'wt'\u001b[0m\u001b[0;34m)\u001b[0m\u001b[0;34m.\u001b[0m\u001b[0mwrite\u001b[0m\u001b[0;34m(\u001b[0m\u001b[0mrender_sim\u001b[0m\u001b[0;34m(\u001b[0m\u001b[0mcontrol_space\u001b[0m\u001b[0;34m[\u001b[0m\u001b[0;36m0\u001b[0m\u001b[0;34m]\u001b[0m\u001b[0;34m,\u001b[0m \u001b[0;36m7\u001b[0m\u001b[0;34m,\u001b[0m \u001b[0;36m123456\u001b[0m\u001b[0;34m,\u001b[0m \u001b[0;36m0\u001b[0m\u001b[0;34m)\u001b[0m\u001b[0;34m)\u001b[0m\u001b[0;34m\u001b[0m\u001b[0m\n\u001b[0m",
      "\u001b[0;32m<ipython-input-7-396ae7d4df44>\u001b[0m in \u001b[0;36mrender_sim\u001b[0;34m(params, size, seed, run)\u001b[0m\n\u001b[1;32m     21\u001b[0m     \u001b[0mmotes\u001b[0m\u001b[0;34m,\u001b[0m \u001b[0mmode\u001b[0m\u001b[0;34m,\u001b[0m \u001b[0mk\u001b[0m\u001b[0;34m,\u001b[0m \u001b[0mimin\u001b[0m\u001b[0;34m,\u001b[0m \u001b[0mimax\u001b[0m\u001b[0;34m,\u001b[0m \u001b[0mrecovery\u001b[0m \u001b[0;34m=\u001b[0m \u001b[0mparams\u001b[0m\u001b[0;34m\u001b[0m\u001b[0m\n\u001b[1;32m     22\u001b[0m     \u001b[0mmote_range\u001b[0m \u001b[0;34m=\u001b[0m \u001b[0mrange\u001b[0m\u001b[0;34m(\u001b[0m\u001b[0;36m0\u001b[0m\u001b[0;34m,\u001b[0m \u001b[0msize\u001b[0m\u001b[0;34m**\u001b[0m\u001b[0;36m2\u001b[0m\u001b[0;34m)\u001b[0m\u001b[0;34m\u001b[0m\u001b[0m\n\u001b[0;32m---> 23\u001b[0;31m     \u001b[0msoup\u001b[0m \u001b[0;34m=\u001b[0m \u001b[0mSoup\u001b[0m\u001b[0;34m(\u001b[0m\u001b[0mopen\u001b[0m\u001b[0;34m(\u001b[0m\u001b[0mstr\u001b[0m\u001b[0;34m(\u001b[0m\u001b[0msim_template\u001b[0m\u001b[0;34m)\u001b[0m\u001b[0;34m,\u001b[0m \u001b[0;34m'r'\u001b[0m\u001b[0;34m)\u001b[0m\u001b[0;34m.\u001b[0m\u001b[0mread\u001b[0m\u001b[0;34m(\u001b[0m\u001b[0;34m)\u001b[0m\u001b[0;34m,\u001b[0m \u001b[0;34m\"lxml\"\u001b[0m\u001b[0;34m)\u001b[0m\u001b[0;34m\u001b[0m\u001b[0m\n\u001b[0m\u001b[1;32m     24\u001b[0m \u001b[0;34m\u001b[0m\u001b[0m\n\u001b[1;32m     25\u001b[0m     \u001b[0;31m# Set the random seed of the simulation\u001b[0m\u001b[0;34m\u001b[0m\u001b[0;34m\u001b[0m\u001b[0m\n",
      "\u001b[0;32m/usr/local/lib/python2.7/site-packages/bs4/__init__.pyc\u001b[0m in \u001b[0;36m__init__\u001b[0;34m(self, markup, features, builder, parse_only, from_encoding, **kwargs)\u001b[0m\n\u001b[1;32m    150\u001b[0m                     \u001b[0;34m\"Couldn't find a tree builder with the features you \"\u001b[0m\u001b[0;34m\u001b[0m\u001b[0m\n\u001b[1;32m    151\u001b[0m                     \u001b[0;34m\"requested: %s. Do you need to install a parser library?\"\u001b[0m\u001b[0;34m\u001b[0m\u001b[0m\n\u001b[0;32m--> 152\u001b[0;31m                     % \",\".join(features))\n\u001b[0m\u001b[1;32m    153\u001b[0m             \u001b[0mbuilder\u001b[0m \u001b[0;34m=\u001b[0m \u001b[0mbuilder_class\u001b[0m\u001b[0;34m(\u001b[0m\u001b[0;34m)\u001b[0m\u001b[0;34m\u001b[0m\u001b[0m\n\u001b[1;32m    154\u001b[0m         \u001b[0mself\u001b[0m\u001b[0;34m.\u001b[0m\u001b[0mbuilder\u001b[0m \u001b[0;34m=\u001b[0m \u001b[0mbuilder\u001b[0m\u001b[0;34m\u001b[0m\u001b[0m\n",
      "\u001b[0;31mFeatureNotFound\u001b[0m: Couldn't find a tree builder with the features you requested: lxml. Do you need to install a parser library?"
     ]
    }
   ],
   "source": [
    "# TODO: Render 0-fail sims for network (get runtime)\n",
    "control_recovery_range = [1]\n",
    "control_fail_range = [1]\n",
    "control_fail_mode = [\"random\"]\n",
    "\n",
    "control_space = list(itertools.product(control_fail_range, control_fail_mode, redundancy_range, imin_range, \n",
    "                                       imax_range, control_recovery_range))\n",
    "\n",
    "print(control_space)\n",
    "open('test.csc', 'wt').write(render_sim(control_space[0], 7, 123456, 0))"
   ]
  },
  {
   "cell_type": "code",
   "execution_count": 8,
   "metadata": {},
   "outputs": [],
   "source": [
    "# TODO: Run sims & parse output\n",
    "# TODO: Render sims for n fails (with new runtime)\n",
    "# TODO: Run the sims"
   ]
  }
 ],
 "metadata": {
  "kernelspec": {
   "display_name": "Python 3",
   "language": "python",
   "name": "python3"
  },
  "language_info": {
   "codemirror_mode": {
    "name": "ipython",
    "version": 2
   },
   "file_extension": ".py",
   "mimetype": "text/x-python",
   "name": "python",
   "nbconvert_exporter": "python",
   "pygments_lexer": "ipython2",
   "version": "2.7.15"
  }
 },
 "nbformat": 4,
 "nbformat_minor": 2
}
