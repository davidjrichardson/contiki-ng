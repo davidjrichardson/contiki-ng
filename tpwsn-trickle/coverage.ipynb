{
 "cells": [
  {
   "cell_type": "code",
   "execution_count": 87,
   "metadata": {},
   "outputs": [],
   "source": [
    "import numpy as np\n",
    "import pandas as pd\n",
    "import matplotlib.pyplot as plt\n",
    "\n",
    "%matplotlib inline"
   ]
  },
  {
   "cell_type": "code",
   "execution_count": 2,
   "metadata": {},
   "outputs": [
    {
     "name": "stdout",
     "output_type": "stream",
     "text": [
      "('Median:', 12902348.0, 'Mean:', 21486543.5)\n",
      "('Std Dev:', 18208127.76003491)\n"
     ]
    }
   ],
   "source": [
    "# The following list is the raw tick data for sim length\n",
    "# 1 message is sent around the network, no failures\n",
    "# To get seconds, divide each number by 1x10^6\n",
    "sim_lengths = [11490430, 10003359, 13931034, 9337192, 11873662, \n",
    "              20700903, 70734350, 9723444, 36370158, 20700903]\n",
    "print('Median:', np.median(sim_lengths), 'Mean:', np.mean(sim_lengths))\n",
    "print('Std Dev:', np.std(sim_lengths))"
   ]
  },
  {
   "cell_type": "code",
   "execution_count": 3,
   "metadata": {},
   "outputs": [
    {
     "name": "stdout",
     "output_type": "stream",
     "text": [
      "12902.348\n"
     ]
    }
   ],
   "source": [
    "print(np.median(sim_lengths)/1000)"
   ]
  },
  {
   "cell_type": "code",
   "execution_count": 66,
   "metadata": {},
   "outputs": [],
   "source": [
    "import os\n",
    "import re\n",
    "import pandas as pd\n",
    "import numpy as np\n",
    "\n",
    "from collections import namedtuple\n",
    "from functools import reduce\n",
    "from pathlib2 import Path\n",
    "\n",
    "\n",
    "exp_path = Path(os.getcwd(), 'experiments')\n",
    "exp_re = re.compile(r'(?P<n>\\d+)-(?P<t>\\w+)-(?P<k>\\d+)-(?P<imin>\\d+)-(?P<imax>\\d+)-(?P<d>\\d+)-run(?P<r>\\d)')\n",
    "experiments = filter(lambda x: os.path.isdir(str(Path(exp_path, x))), os.listdir(str(exp_path)))\n",
    "\n",
    "\n",
    "def parse_logfile(path):\n",
    "    f = pd.read_csv(str(path), names=['time','msg'], header=None, delimiter=';')\n",
    "    tx_count = 0\n",
    "    token_val = -1\n",
    "    \n",
    "    for index, row in f.iterrows():\n",
    "        text = row['msg']\n",
    "        \n",
    "        if 'Trickle TX' in text:\n",
    "            tx_count += 1\n",
    "        elif 'Current token' in text:\n",
    "            token_val = int(re.match(r'.*Current\\ token:\\ (?P<n>\\d+)', text).group('n'))\n",
    "            \n",
    "    return tx_count, token_val\n",
    "\n",
    "\n",
    "Experiment = namedtuple('Experiment', ['d', 'k', 'imin', 'n', 't', 'imax'])\n",
    "exp_dict = {}\n",
    "\n",
    "\n",
    "for exp in experiments:\n",
    "    exp_dir = Path(exp_path, exp)\n",
    "    params = exp_re.match(exp).groupdict()\n",
    "    params.pop('r', -1)\n",
    "    \n",
    "    experiment = Experiment(**params)\n",
    "    \n",
    "    files = filter(lambda x: \"run\" in x, os.listdir(str(exp_dir)))\n",
    "    filename_re = re.compile(r'.*\\_(?P<id>\\d+)\\.txt')\n",
    "    \n",
    "    experiment_dict = {}\n",
    "    \n",
    "    for f in files:\n",
    "        node_id = filename_re.match(f).group('id')\n",
    "        \n",
    "        experiment_dict[node_id] = parse_logfile(Path(exp_dir, f))\n",
    "    \n",
    "    total_tx = 0\n",
    "    total_has_token = 0\n",
    "    for t in experiment_dict.values():\n",
    "        total_tx += t[0]\n",
    "        \n",
    "        if t[1] == 1:\n",
    "            total_has_token += 1\n",
    "    \n",
    "    if exp_dict.get(experiment):\n",
    "        exp_dict[experiment].append((total_tx, (total_has_token / 49.0) * 100))\n",
    "    else:\n",
    "        exp_dict[experiment] = [(total_tx, (total_has_token / 49.0) * 100)]"
   ]
  },
  {
   "cell_type": "code",
   "execution_count": 122,
   "metadata": {},
   "outputs": [
    {
     "data": {
      "image/png": "[encoded data removed]",
      "text/plain": [
       "<matplotlib.figure.Figure at 0x1154d2410>"
      ]
     },
     "metadata": {
      "needs_background": "light"
     },
     "output_type": "display_data"
    }
   ],
   "source": [
    "def filter_experiments(experiments, mask):\n",
    "    # Mask is a namedtuple that has None for fields that are to be ignored\n",
    "    mask_set = set(filter(lambda x: x[1], mask._asdict().items()))\n",
    "    return filter(lambda x: mask_set <= set(x._asdict().items()), experiments)\n",
    "\n",
    "\n",
    "e = filter_experiments(exp_dict.keys(), Experiment(d='', k='', imin='', n='10', t='location', imax=''))\n",
    "e = sorted(e, key=lambda x: int(x.d))\n",
    "\n",
    "d = []\n",
    "cov = []\n",
    "msg = []\n",
    "cov_std = []\n",
    "msg_std = []\n",
    "\n",
    "for exp in e:\n",
    "    msgs, coverage = [list(t) for t in zip(*exp_dict[exp])]\n",
    "    \n",
    "    d.append(int(exp.d))\n",
    "    cov.append(np.mean(coverage))\n",
    "    cov_std.append(np.std(coverage))\n",
    "    msg.append(np.mean(msgs))\n",
    "    msg_std.append(np.std(msgs))\n",
    "    \n",
    "plt.errorbar(d, cov, cov_std, ecolor='r', elinewidth=1, capsize=2, marker='o', color='b')\n",
    "plt.xlim(4000, 21000)\n",
    "plt.xticks(d)\n",
    "plt.ylabel('Coverage (%)')\n",
    "plt.xlabel('Recovery delay (ms)')\n",
    "plt.show()\n",
    "#     print(np.mean(msgs), np.mean(coverage), np.std(coverage), 'd=' + exp.d)"
   ]
  },
  {
   "cell_type": "code",
   "execution_count": null,
   "metadata": {},
   "outputs": [],
   "source": []
  }
 ],
 "metadata": {
  "kernelspec": {
   "display_name": "Python 3",
   "language": "python",
   "name": "python3"
  },
  "language_info": {
   "codemirror_mode": {
    "name": "ipython",
    "version": 2
   },
   "file_extension": ".py",
   "mimetype": "text/x-python",
   "name": "python",
   "nbconvert_exporter": "python",
   "pygments_lexer": "ipython2",
   "version": "2.7.15"
  }
 },
 "nbformat": 4,
 "nbformat_minor": 2
}
