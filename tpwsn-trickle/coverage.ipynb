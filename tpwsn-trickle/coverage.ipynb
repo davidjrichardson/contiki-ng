{
 "cells": [
  {
   "cell_type": "code",
   "execution_count": 2,
   "metadata": {},
   "outputs": [],
   "source": [
    "import numpy as np\n",
    "import pandas as pd\n",
    "import matplotlib.pyplot as plt"
   ]
  },
  {
   "cell_type": "code",
   "execution_count": 3,
   "metadata": {},
   "outputs": [
    {
     "name": "stdout",
     "output_type": "stream",
     "text": [
      "('Median:', 12902348.0, 'Mean:', 21486543.5)\n",
      "('Std Dev:', 18208127.76003491)\n"
     ]
    }
   ],
   "source": [
    "# The following list is the raw tick data for sim length\n",
    "# 1 message is sent around the network, no failures\n",
    "# To get seconds, divide each number by 1x10^6\n",
    "sim_lengths = [11490430, 10003359, 13931034, 9337192, 11873662, \n",
    "              20700903, 70734350, 9723444, 36370158, 20700903]\n",
    "print('Median:', np.median(sim_lengths), 'Mean:', np.mean(sim_lengths))\n",
    "print('Std Dev:', np.std(sim_lengths))"
   ]
  },
  {
   "cell_type": "code",
   "execution_count": 5,
   "metadata": {},
   "outputs": [
    {
     "name": "stdout",
     "output_type": "stream",
     "text": [
      "12902.348\n"
     ]
    }
   ],
   "source": [
    "print(np.median(sim_lengths)/1000)"
   ]
  },
  {
   "cell_type": "code",
   "execution_count": null,
   "metadata": {},
   "outputs": [],
   "source": [
    "import os"
   ]
  }
 ],
 "metadata": {
  "kernelspec": {
   "display_name": "Python 3",
   "language": "python",
   "name": "python3"
  },
  "language_info": {
   "codemirror_mode": {
    "name": "ipython",
    "version": 2
   },
   "file_extension": ".py",
   "mimetype": "text/x-python",
   "name": "python",
   "nbconvert_exporter": "python",
   "pygments_lexer": "ipython2",
   "version": "2.7.15"
  }
 },
 "nbformat": 4,
 "nbformat_minor": 2
}
