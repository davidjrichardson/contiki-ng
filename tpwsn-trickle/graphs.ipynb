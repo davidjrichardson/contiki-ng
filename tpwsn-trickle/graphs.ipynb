{
 "cells": [
  {
   "cell_type": "code",
   "execution_count": 1,
   "metadata": {},
   "outputs": [],
   "source": [
    "import os\n",
    "import re\n",
    "import pickle\n",
    "import pandas as pd\n",
    "import numpy as np\n",
    "\n",
    "from itertools import product\n",
    "from collections import namedtuple, defaultdict\n",
    "from collections.abc import Iterable\n",
    "from functools import reduce\n",
    "from pathlib import Path\n",
    "\n",
    "import matplotlib.pyplot as plt\n",
    "\n",
    "# %matplotlib inline\n",
    "\n",
    "Experiment = namedtuple('Experiment', ['d', 'k', 'imin', 'n', 't', 'imax'])\n",
    "\n",
    "with open('results/results_data.pickle', 'rb') as handle:\n",
    "    experiments = pickle.load(handle)\n",
    "    \n",
    "with open('results/control_data.pickle', 'rb') as handle:\n",
    "    control = pickle.load(handle)\n",
    "    \n",
    "if not os.path.exists('graphs'):\n",
    "    os.makedirs('graphs')\n",
    "    \n",
    "def filter_experiments(experiments, mask):\n",
    "    # Mask is a namedtuple that has None for fields that are to be ignored\n",
    "    mask_base = set(filter(lambda y: not isinstance(y[1], tuple), \n",
    "                           filter(lambda x: x[1], mask._asdict().items())))\n",
    "    mask_permutes = set(filter(lambda y: isinstance(y[1], tuple),\n",
    "                              filter(lambda x: x[1], mask._asdict().items())))\n",
    "    \n",
    "    # Delta is the permuting parameter expansions\n",
    "    delta = list(map(lambda x: set(product((x[0],), x[1])), mask_permutes))\n",
    "    permutations = [x.union(mask_base) for x in list(map(lambda x: set(x), product(*delta)))]\n",
    "    \n",
    "    # All of the experiments that match the filter(s)\n",
    "    exps = list(map(lambda x: set(filter(lambda y: x <= set(y._asdict().items()), experiments)), permutations))\n",
    "    \n",
    "    # Collapse all of the experiments into a set and return it\n",
    "    return reduce(lambda x, y: x.union(y), exps)"
   ]
  },
  {
   "cell_type": "code",
   "execution_count": 2,
   "metadata": {},
   "outputs": [],
   "source": [
    "def filter_anomalies(data):\n",
    "    mean = np.mean(data)\n",
    "    std = np.std(data)\n",
    "    \n",
    "    return [x for x in data if (mean - 2 * std) < x < (mean + 2 * std)]"
   ]
  },
  {
   "cell_type": "markdown",
   "metadata": {},
   "source": [
    "### Different recovery delay analysis"
   ]
  },
  {
   "cell_type": "code",
   "execution_count": 8,
   "metadata": {},
   "outputs": [
    {
     "data": {
      "text/plain": [
       "<Figure size 1080x720 with 0 Axes>"
      ]
     },
     "metadata": {},
     "output_type": "display_data"
    },
    {
     "data": {
      "text/plain": [
       "<Figure size 1080x720 with 0 Axes>"
      ]
     },
     "metadata": {},
     "output_type": "display_data"
    },
    {
     "data": {
      "text/plain": [
       "<Figure size 1080x720 with 0 Axes>"
      ]
     },
     "metadata": {},
     "output_type": "display_data"
    },
    {
     "data": {
      "text/plain": [
       "<Figure size 1080x720 with 0 Axes>"
      ]
     },
     "metadata": {},
     "output_type": "display_data"
    }
   ],
   "source": [
    "def recovery_delay(imin=16):\n",
    "    filter_params = {\n",
    "        'd': None, # d is the X axis here\n",
    "        'k': (3, 4),\n",
    "        'imin': imin,\n",
    "        't': 'location',\n",
    "        'imax': (11, ), \n",
    "        'n': 17\n",
    "    }\n",
    "    all_experiments = filter_experiments(experiments, Experiment(**filter_params))\n",
    "    \n",
    "    if not os.path.exists('graphs/mote_delay/'):\n",
    "        os.makedirs('graphs/mote_delay')\n",
    "    \n",
    "    for i in filter_params['imax']:\n",
    "        sub_filter = Experiment(d=None, k=None, imin=None, t='', imax=i, n=None)\n",
    "        sub_experiments = list(filter_experiments(all_experiments, sub_filter))\n",
    "        sub_experiments = sorted(sub_experiments, key=lambda x: (int(x.d), int(x.k)))\n",
    "        exp_dict = {}\n",
    "        \n",
    "        for exp in sub_experiments:\n",
    "            try:\n",
    "                exp_dict.get(('k', exp.k)).append(exp)\n",
    "            except:\n",
    "                exp_dict[('k', exp.k)] = [exp]\n",
    "                \n",
    "        subplot_dimens = (2, len(exp_dict.keys()))\n",
    "        current_row = 0\n",
    "        fig, axes = plt.subplots(*subplot_dimens, figsize=(15,10))\n",
    "        fig.suptitle(f'Trickle (imin={filter_params[\"imin\"]}, imax={i}) in a 15x15 network, failure mode={filter_params[\"t\"]}, max failures={filter_params[\"n\"]}')\n",
    "        \n",
    "        for key in exp_dict.keys():\n",
    "            control_params = {\n",
    "                'd': None, \n",
    "                'k': key[1],\n",
    "                'imin': imin,\n",
    "                't': None,\n",
    "                'imax': i, \n",
    "                'n': None # n is the X axis here\n",
    "            }\n",
    "            \n",
    "            control_exp = filter_experiments(control.keys(), Experiment(**control_params)).pop()\n",
    "            control_data = control[control_exp]\n",
    "            control_msgs_sent = list(map(lambda x: int(x['messages']), control_data))\n",
    "            \n",
    "            control_msgs_avg = np.mean(filter_anomalies(control_msgs_sent))\n",
    "            \n",
    "            x_axis = list(map(lambda x: int(x.d), exp_dict[key]))\n",
    "            figs = axes[current_row]\n",
    "            \n",
    "            coverage_pts = []\n",
    "            msgs_pts = []\n",
    "            \n",
    "            for exp in exp_dict[key]:\n",
    "                msgs = list(map(lambda x: int(x['messages']), experiments[exp]))\n",
    "                coverage = list(map(lambda x: float(x['coverage']), experiments[exp]))\n",
    "                \n",
    "                msgs_pts.append((\n",
    "                    np.mean(filter_anomalies(msgs)), \n",
    "                    np.std(msgs)\n",
    "                ))\n",
    "                coverage_pts.append((\n",
    "                    np.mean(filter_anomalies(coverage)), \n",
    "                    np.std(coverage)\n",
    "                ))\n",
    "                \n",
    "            msgs_ax = figs[0]\n",
    "            msgs_ax.set_xticks(x_axis)\n",
    "            msgs_ax.grid(linestyle='--')\n",
    "            msgs_ax.set_xlim(0.5, 15.5)\n",
    "            msgs_ax.set_ylim(750,1400)\n",
    "            msgs_ax.set_title(f'Total messages sent for {key[0]}={key[1]}')\n",
    "            msgs_ax.set_ylabel('Total messages sent')\n",
    "            msgs_ax.set_xlabel('Mote crash time (s)')\n",
    "            msgs_ax.errorbar(x_axis, *list(map(list, zip(*msgs_pts))), \n",
    "                             marker='^', color='royalblue', ecolor='orange', capsize=4)\n",
    "            msgs_ax.axhline(control_msgs_avg, color='orangered', linestyle='--')\n",
    "            msgs_ax.text(4.15, control_msgs_avg, '0 fails avg', horizontalalignment='left', verticalalignment='center',\n",
    "                        color='red')\n",
    "            \n",
    "            coverage_ax = figs[1]\n",
    "            coverage_ax.set_xticks(x_axis)\n",
    "            coverage_ax.grid(linestyle='--')\n",
    "            coverage_ax.set_xlim(0.5, 15.5)\n",
    "            coverage_ax.set_ylim(65, 112)\n",
    "            coverage_ax.set_ylabel('Message coverage (%)')\n",
    "            coverage_ax.set_xlabel('Mote crash time (s)')\n",
    "            coverage_ax.set_title(f'Message coverage for {key[0]}={key[1]}')\n",
    "            coverage_ax.errorbar(x_axis, *list(map(list, zip(*coverage_pts))), \n",
    "                             marker='^', color='royalblue', ecolor='orange', capsize=4)\n",
    "            coverage_ax.axhline(100, color='orangered', linestyle='--')\n",
    "            coverage_ax.text(4.15, 100, '0 fails avg', horizontalalignment='left', verticalalignment='center',\n",
    "                        color='red')\n",
    "            current_row = current_row + 1\n",
    "        \n",
    "        fig.subplots_adjust(top=0.92, bottom=0.08, left=0.06, right=0.9, hspace=0.25,\n",
    "                wspace=0.35)\n",
    "        fig.savefig(format='png', fname=f'graphs/mote_delay/trickle-15x15-{imin}-{i}-{filter_params[\"n\"]}-{filter_params[\"t\"]}-delay.png', dpi=150)\n",
    "        fig.clf()\n",
    "        \n",
    "  \n",
    "recovery_delay(imin=4)\n",
    "recovery_delay(imin=8)\n",
    "recovery_delay(imin=16)\n",
    "recovery_delay(imin=32)"
   ]
  },
  {
   "cell_type": "code",
   "execution_count": 9,
   "metadata": {},
   "outputs": [
    {
     "data": {
      "text/plain": [
       "<Figure size 1080x720 with 0 Axes>"
      ]
     },
     "metadata": {},
     "output_type": "display_data"
    },
    {
     "data": {
      "text/plain": [
       "<Figure size 1080x720 with 0 Axes>"
      ]
     },
     "metadata": {},
     "output_type": "display_data"
    },
    {
     "data": {
      "text/plain": [
       "<Figure size 1080x720 with 0 Axes>"
      ]
     },
     "metadata": {},
     "output_type": "display_data"
    },
    {
     "data": {
      "text/plain": [
       "<Figure size 1080x720 with 0 Axes>"
      ]
     },
     "metadata": {},
     "output_type": "display_data"
    }
   ],
   "source": [
    "def max_failures(imin=16):\n",
    "    filter_params = {\n",
    "        'd': 15, \n",
    "        'k': (3, 4),\n",
    "        'imin': imin,\n",
    "        't': 'random',\n",
    "        'imax': (11, ), \n",
    "        'n': None # n is the X axis here\n",
    "    }\n",
    "    all_experiments = filter_experiments(experiments, Experiment(**filter_params))\n",
    "    \n",
    "    if not os.path.exists('graphs/max_fail/'):\n",
    "        os.makedirs('graphs/max_fail')\n",
    "    \n",
    "    for i in filter_params['imax']:\n",
    "        sub_filter = Experiment(d=None, k=None, imin=None, t=None, imax=i, n=None)\n",
    "        sub_experiments = list(filter_experiments(all_experiments, sub_filter))\n",
    "        sub_experiments = sorted(sub_experiments, key=lambda x: (int(x.n), int(x.k)))\n",
    "        exp_dict = {}\n",
    "        \n",
    "        for exp in sub_experiments:\n",
    "            try:\n",
    "                exp_dict.get(('k', exp.k)).append(exp)\n",
    "            except:\n",
    "                exp_dict[('k', exp.k)] = [exp]\n",
    "                \n",
    "        subplot_dimens = (2, len(exp_dict.keys()))\n",
    "        current_row = 0\n",
    "        fig, axes = plt.subplots(*subplot_dimens, figsize=(15,10))\n",
    "        fig.suptitle(f'Trickle (imin={filter_params[\"imin\"]}, imax={i}) in a 15x15 network, failure mode={filter_params[\"t\"]}, mote delay={filter_params[\"d\"]}s')\n",
    "        \n",
    "        for key in exp_dict.keys():\n",
    "            control_params = {\n",
    "                'd': None, \n",
    "                'k': key[1],\n",
    "                'imin': imin,\n",
    "                't': None,\n",
    "                'imax': i, \n",
    "                'n': None # n is the X axis here\n",
    "            }\n",
    "            \n",
    "            control_exp = filter_experiments(control.keys(), Experiment(**control_params)).pop()\n",
    "            control_data = control[control_exp]\n",
    "            control_msgs_sent = list(map(lambda x: int(x['messages']), control_data))\n",
    "            \n",
    "            control_msgs_avg = np.mean(filter_anomalies(control_msgs_sent))\n",
    "            \n",
    "            x_axis = list(map(lambda x: int(x.n), exp_dict[key]))\n",
    "            figs = axes[current_row]\n",
    "            \n",
    "            coverage_pts = []\n",
    "            msgs_pts = []\n",
    "            \n",
    "            for exp in exp_dict[key]:\n",
    "                msgs = list(map(lambda x: int(x['messages']), experiments[exp]))\n",
    "                coverage = list(map(lambda x: float(x['coverage']), experiments[exp]))\n",
    "                \n",
    "                msgs_pts.append((\n",
    "                    np.mean(filter_anomalies(msgs)), \n",
    "                    np.std(msgs)\n",
    "                ))\n",
    "                coverage_pts.append((\n",
    "                    np.mean(filter_anomalies(coverage)), \n",
    "                    np.std(coverage)\n",
    "                ))\n",
    "                \n",
    "            msgs_ax = figs[0]\n",
    "            msgs_ax.set_xticks(x_axis)\n",
    "            msgs_ax.grid(linestyle=':')\n",
    "            msgs_ax.set_xlim(0.5, 15.5)\n",
    "            msgs_ax.set_ylim(750,1350)\n",
    "            msgs_ax.set_title(f'Total messages sent for {key[0]}={key[1]}')\n",
    "            msgs_ax.set_ylabel('Total messages sent')\n",
    "            msgs_ax.set_xlabel('Maximum simultaneous failures (motes)')\n",
    "            msgs_ax.errorbar(x_axis, *list(map(list, zip(*msgs_pts))), \n",
    "                             marker='^', color='royalblue', ecolor='cornflowerblue', capsize=4)\n",
    "            msgs_ax.axhline(control_msgs_avg, color='forestgreen', linestyle='--')\n",
    "            msgs_ax.text(15.8, control_msgs_avg, '0 fails avg', horizontalalignment='left', verticalalignment='center',\n",
    "                        color='forestgreen')\n",
    "            \n",
    "            coverage_ax = figs[1]\n",
    "            coverage_ax.set_xticks(x_axis)\n",
    "            coverage_ax.grid(linestyle=':')\n",
    "            coverage_ax.set_xlim(0.5, 15.5)\n",
    "            coverage_ax.set_ylim(60, 112)\n",
    "            coverage_ax.set_ylabel('Message coverage (%)')\n",
    "            coverage_ax.set_xlabel('Maximum simultaneous failures (motes)')\n",
    "            coverage_ax.set_title(f'Message coverage for {key[0]}={key[1]}')\n",
    "            coverage_ax.errorbar(x_axis, *list(map(list, zip(*coverage_pts))), \n",
    "                             marker='^', color='royalblue', ecolor='cornflowerblue', capsize=4)\n",
    "            coverage_ax.axhline(100, color='forestgreen', linestyle='--')\n",
    "            coverage_ax.text(15.8, 100, '0 fails avg', horizontalalignment='left', verticalalignment='center',\n",
    "                        color='forestgreen')\n",
    "            current_row = current_row + 1\n",
    "        \n",
    "        fig.subplots_adjust(top=0.92, bottom=0.08, left=0.06, right=0.9, hspace=0.25,\n",
    "                wspace=0.35)\n",
    "        fig.savefig(format='png', fname=f'graphs/max_fail/trickle-15x15-{imin}-{i}-{filter_params[\"d\"]}-{filter_params[\"t\"]}-fails.png', dpi=150)\n",
    "        fig.clf()\n",
    "        \n",
    "        \n",
    "max_failures(imin=4)\n",
    "max_failures(imin=8)\n",
    "max_failures(imin=16)\n",
    "max_failures(imin=32)"
   ]
  },
  {
   "cell_type": "code",
   "execution_count": null,
   "metadata": {},
   "outputs": [],
   "source": []
  }
 ],
 "metadata": {
  "kernelspec": {
   "display_name": "Python 3",
   "language": "python",
   "name": "python3"
  },
  "language_info": {
   "codemirror_mode": {
    "name": "ipython",
    "version": 3
   },
   "file_extension": ".py",
   "mimetype": "text/x-python",
   "name": "python",
   "nbconvert_exporter": "python",
   "pygments_lexer": "ipython3",
   "version": "3.7.3"
  }
 },
 "nbformat": 4,
 "nbformat_minor": 2
}
